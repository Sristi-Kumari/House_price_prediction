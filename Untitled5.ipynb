{
  "nbformat": 4,
  "nbformat_minor": 0,
  "metadata": {
    "colab": {
      "provenance": []
    },
    "kernelspec": {
      "name": "python3",
      "display_name": "Python 3"
    },
    "language_info": {
      "name": "python"
    }
  },
  "cells": [
    {
      "cell_type": "code",
      "execution_count": 1,
      "metadata": {
        "id": "BUtN6pd7uh0P"
      },
      "outputs": [],
      "source": [
        "import pandas as pd\n",
        "import matplotlib.pyplot as plt\n",
        "import numpy as np\n"
      ]
    },
    {
      "cell_type": "code",
      "source": [
        "dataset=pd.read_csv('Housing.csv')\n",
        "X=dataset.iloc[:,:-1].values\n",
        "y=dataset.iloc[:,-1].values\n"
      ],
      "metadata": {
        "id": "_Q8xOxg3v2hP"
      },
      "execution_count": 2,
      "outputs": []
    },
    {
      "cell_type": "code",
      "source": [
        "from sklearn.compose import ColumnTransformer\n",
        "from sklearn.preprocessing import OneHotEncoder\n",
        "categorical_columns=['mainroad','guestroom','basement','hotwaterheating','airconditioning','prefarea']\n",
        "categorical_data= dataset [categorical_columns]\n",
        "encoder = OneHotEncoder(sparse= False)\n",
        "encoded_data = encoder.fit_transform(categorical_data)\n",
        "encoded_df = pd.DataFrame(encoded_data, columns=encoder.get_feature_names_out(categorical_columns))\n",
        "\n",
        "print(encoded_df)"
      ],
      "metadata": {
        "colab": {
          "base_uri": "https://localhost:8080/"
        },
        "id": "Khy7N-Omwq4x",
        "outputId": "de23462e-e0da-46cf-f093-20ac151ddd3d"
      },
      "execution_count": 3,
      "outputs": [
        {
          "output_type": "stream",
          "name": "stdout",
          "text": [
            "     mainroad_no  mainroad_yes  guestroom_no  guestroom_yes  basement_no  \\\n",
            "0            0.0           1.0           1.0            0.0          1.0   \n",
            "1            0.0           1.0           1.0            0.0          1.0   \n",
            "2            0.0           1.0           1.0            0.0          0.0   \n",
            "3            0.0           1.0           1.0            0.0          0.0   \n",
            "4            0.0           1.0           0.0            1.0          0.0   \n",
            "..           ...           ...           ...            ...          ...   \n",
            "540          0.0           1.0           1.0            0.0          0.0   \n",
            "541          1.0           0.0           1.0            0.0          1.0   \n",
            "542          0.0           1.0           1.0            0.0          1.0   \n",
            "543          1.0           0.0           1.0            0.0          1.0   \n",
            "544          0.0           1.0           1.0            0.0          1.0   \n",
            "\n",
            "     basement_yes  hotwaterheating_no  hotwaterheating_yes  \\\n",
            "0             0.0                 1.0                  0.0   \n",
            "1             0.0                 1.0                  0.0   \n",
            "2             1.0                 1.0                  0.0   \n",
            "3             1.0                 1.0                  0.0   \n",
            "4             1.0                 1.0                  0.0   \n",
            "..            ...                 ...                  ...   \n",
            "540           1.0                 1.0                  0.0   \n",
            "541           0.0                 1.0                  0.0   \n",
            "542           0.0                 1.0                  0.0   \n",
            "543           0.0                 1.0                  0.0   \n",
            "544           0.0                 1.0                  0.0   \n",
            "\n",
            "     airconditioning_no  airconditioning_yes  prefarea_no  prefarea_yes  \n",
            "0                   0.0                  1.0          0.0           1.0  \n",
            "1                   0.0                  1.0          1.0           0.0  \n",
            "2                   1.0                  0.0          0.0           1.0  \n",
            "3                   0.0                  1.0          0.0           1.0  \n",
            "4                   0.0                  1.0          1.0           0.0  \n",
            "..                  ...                  ...          ...           ...  \n",
            "540                 1.0                  0.0          1.0           0.0  \n",
            "541                 1.0                  0.0          1.0           0.0  \n",
            "542                 1.0                  0.0          1.0           0.0  \n",
            "543                 1.0                  0.0          1.0           0.0  \n",
            "544                 1.0                  0.0          1.0           0.0  \n",
            "\n",
            "[545 rows x 12 columns]\n"
          ]
        },
        {
          "output_type": "stream",
          "name": "stderr",
          "text": [
            "/usr/local/lib/python3.10/dist-packages/sklearn/preprocessing/_encoders.py:868: FutureWarning: `sparse` was renamed to `sparse_output` in version 1.2 and will be removed in 1.4. `sparse_output` is ignored unless you leave `sparse` to its default value.\n",
            "  warnings.warn(\n"
          ]
        }
      ]
    },
    {
      "cell_type": "code",
      "source": [
        "dataset = dataset.drop(categorical_columns, axis=1)"
      ],
      "metadata": {
        "id": "sYu8nTs46YZo"
      },
      "execution_count": 4,
      "outputs": []
    },
    {
      "cell_type": "code",
      "source": [
        "merged_data = pd.concat([dataset, encoded_df], axis=1)\n",
        "print(merged_data)\n",
        "X=merged_data.iloc[:,:-1].values\n",
        "y=merged_data.iloc[:,-1].values"
      ],
      "metadata": {
        "colab": {
          "base_uri": "https://localhost:8080/"
        },
        "id": "X_n-jU6T7vDy",
        "outputId": "d14a1a41-141b-4b13-9c7d-df4e371d72d2"
      },
      "execution_count": 5,
      "outputs": [
        {
          "output_type": "stream",
          "name": "stdout",
          "text": [
            "        price  area  bedrooms  bathrooms  stories  parking furnishingstatus  \\\n",
            "0    13300000  7420         4          2        3        2        furnished   \n",
            "1    12250000  8960         4          4        4        3        furnished   \n",
            "2    12250000  9960         3          2        2        2   semi-furnished   \n",
            "3    12215000  7500         4          2        2        3        furnished   \n",
            "4    11410000  7420         4          1        2        2        furnished   \n",
            "..        ...   ...       ...        ...      ...      ...              ...   \n",
            "540   1820000  3000         2          1        1        2      unfurnished   \n",
            "541   1767150  2400         3          1        1        0   semi-furnished   \n",
            "542   1750000  3620         2          1        1        0      unfurnished   \n",
            "543   1750000  2910         3          1        1        0        furnished   \n",
            "544   1750000  3850         3          1        2        0      unfurnished   \n",
            "\n",
            "     mainroad_no  mainroad_yes  guestroom_no  guestroom_yes  basement_no  \\\n",
            "0            0.0           1.0           1.0            0.0          1.0   \n",
            "1            0.0           1.0           1.0            0.0          1.0   \n",
            "2            0.0           1.0           1.0            0.0          0.0   \n",
            "3            0.0           1.0           1.0            0.0          0.0   \n",
            "4            0.0           1.0           0.0            1.0          0.0   \n",
            "..           ...           ...           ...            ...          ...   \n",
            "540          0.0           1.0           1.0            0.0          0.0   \n",
            "541          1.0           0.0           1.0            0.0          1.0   \n",
            "542          0.0           1.0           1.0            0.0          1.0   \n",
            "543          1.0           0.0           1.0            0.0          1.0   \n",
            "544          0.0           1.0           1.0            0.0          1.0   \n",
            "\n",
            "     basement_yes  hotwaterheating_no  hotwaterheating_yes  \\\n",
            "0             0.0                 1.0                  0.0   \n",
            "1             0.0                 1.0                  0.0   \n",
            "2             1.0                 1.0                  0.0   \n",
            "3             1.0                 1.0                  0.0   \n",
            "4             1.0                 1.0                  0.0   \n",
            "..            ...                 ...                  ...   \n",
            "540           1.0                 1.0                  0.0   \n",
            "541           0.0                 1.0                  0.0   \n",
            "542           0.0                 1.0                  0.0   \n",
            "543           0.0                 1.0                  0.0   \n",
            "544           0.0                 1.0                  0.0   \n",
            "\n",
            "     airconditioning_no  airconditioning_yes  prefarea_no  prefarea_yes  \n",
            "0                   0.0                  1.0          0.0           1.0  \n",
            "1                   0.0                  1.0          1.0           0.0  \n",
            "2                   1.0                  0.0          0.0           1.0  \n",
            "3                   0.0                  1.0          0.0           1.0  \n",
            "4                   0.0                  1.0          1.0           0.0  \n",
            "..                  ...                  ...          ...           ...  \n",
            "540                 1.0                  0.0          1.0           0.0  \n",
            "541                 1.0                  0.0          1.0           0.0  \n",
            "542                 1.0                  0.0          1.0           0.0  \n",
            "543                 1.0                  0.0          1.0           0.0  \n",
            "544                 1.0                  0.0          1.0           0.0  \n",
            "\n",
            "[545 rows x 19 columns]\n"
          ]
        }
      ]
    },
    {
      "cell_type": "code",
      "source": [
        "from sklearn.model_selection import train_test_split\n",
        "X_train,X_test,y_train,y_test=train_test_split(X,y,test_size=0.2,random_state=0)"
      ],
      "metadata": {
        "id": "b2jLjSJ677oH"
      },
      "execution_count": 6,
      "outputs": []
    },
    {
      "cell_type": "code",
      "source": [
        "from sklearn.preprocessing import OneHotEncoder\n",
        "from sklearn.compose import ColumnTransformer\n",
        "from sklearn.linear_model import LinearRegression\n",
        "from sklearn.metrics import mean_squared_error, r2_score\n",
        "\n",
        "\n",
        "categorical_cols = [index for index, col in enumerate(X_train[0]) if isinstance(col, str)]\n",
        "\n",
        "column_transformer = ColumnTransformer(\n",
        "    transformers=[\n",
        "        (\"encoder\", OneHotEncoder(), categorical_cols)\n",
        "    ],\n",
        "    remainder='passthrough'\n",
        ")\n",
        "\n",
        "X_train_encoded = column_transformer.fit_transform(X_train)\n",
        "\n",
        "\n",
        "X_test_encoded = column_transformer.transform(X_test)\n",
        "\n",
        "model.fit(X_train_encoded, y_train)\n",
        "y_pred = model.predict(X_test_encoded)\n",
        "mse = mean_squared_error(y_test, y_pred)\n",
        "r2 = r2_score(y_test, y_pred)\n",
        "print(\"Mean Squared Error:\", mse)\n",
        "print(\"R-squared Score:\", r2)\n"
      ],
      "metadata": {
        "colab": {
          "base_uri": "https://localhost:8080/"
        },
        "id": "VghqAzUQ_RQH",
        "outputId": "81745d98-39ba-4a2d-ef11-cd56487ecc95"
      },
      "execution_count": 10,
      "outputs": [
        {
          "output_type": "stream",
          "name": "stdout",
          "text": [
            "Mean Squared Error: 7.21367838810295e-29\n",
            "R-squared Score: 1.0\n"
          ]
        }
      ]
    },
    {
      "cell_type": "code",
      "source": [
        "import matplotlib.pyplot as plt\n",
        "import seaborn as sns\n",
        "from sklearn.metrics import mean_squared_error, r2_score\n",
        "\n",
        "def visualize_model_performance(y_true, y_pred):\n",
        "\n",
        "    plt.figure(figsize=(10, 6))\n",
        "    sns.scatterplot(x=y_true, y=y_pred, color='blue', alpha=0.7)\n",
        "    plt.xlabel('Actual Prices')\n",
        "    plt.ylabel('Predicted Prices')\n",
        "    plt.title('Actual vs Predicted Prices')\n",
        "    plt.grid(True)\n",
        "    plt.show()\n",
        "\n",
        "    residuals = y_true - y_pred\n",
        "    plt.figure(figsize=(10, 6))\n",
        "    sns.scatterplot(x=y_pred, y=residuals, color='green', alpha=0.7)\n",
        "    plt.xlabel('Predicted Prices')\n",
        "    plt.ylabel('Residuals')\n",
        "    plt.title('Residual Plot')\n",
        "    plt.axhline(y=0, color='red', linestyle='--')\n",
        "    plt.grid(True)\n",
        "    plt.show()\n",
        "\n",
        "visualize_model_performance(y_test, y_pred)\n",
        "\n",
        "mse = mean_squared_error(y_test, y_pred)\n",
        "r2 = r2_score(y_test, y_pred)\n",
        "print(f'Mean Squared Error (MSE): {mse}')\n",
        "print(f'R-squared (R2) Score: {r2}')\n"
      ],
      "metadata": {
        "id": "txbyMl7T-kZQ",
        "colab": {
          "base_uri": "https://localhost:8080/",
          "height": 1000
        },
        "outputId": "1c1b482b-146f-46d7-c9a7-20fe1299688f"
      },
      "execution_count": 11,
      "outputs": [
        {
          "output_type": "display_data",
          "data": {
            "text/plain": [
              "<Figure size 1000x600 with 1 Axes>"
            ],
            "image/png": "[encoded data removed]"
          },
          "metadata": {}
        },
        {
          "output_type": "display_data",
          "data": {
            "text/plain": [
              "<Figure size 1000x600 with 1 Axes>"
            ],
            "image/png": "[encoded data removed]"
          },
          "metadata": {}
        },
        {
          "output_type": "stream",
          "name": "stdout",
          "text": [
            "Mean Squared Error (MSE): 7.21367838810295e-29\n",
            "R-squared (R2) Score: 1.0\n"
          ]
        }
      ]
    },
    {
      "cell_type": "code",
      "source": [
        "from sklearn.model_selection import cross_val_score\n",
        "from sklearn.linear_model import LinearRegression\n",
        "\n",
        "model = LinearRegression()\n",
        "\n",
        "\n",
        "cv_scores = cross_val_score(model, X_train_encoded, y_train, cv=5, scoring='r2')\n",
        "\n",
        "\n",
        "print(\"Cross-Validation R2 scores:\", cv_scores)\n",
        "print(\"Average R2 score:\", cv_scores.mean())\n"
      ],
      "metadata": {
        "colab": {
          "base_uri": "https://localhost:8080/"
        },
        "id": "tHlS57txBnnP",
        "outputId": "0a2b65ef-c724-4108-93b1-7f53d5b7d19d"
      },
      "execution_count": 13,
      "outputs": [
        {
          "output_type": "stream",
          "name": "stdout",
          "text": [
            "Cross-Validation R2 scores: [1. 1. 1. 1. 1.]\n",
            "Average R2 score: 1.0\n"
          ]
        }
      ]
    },
    {
      "cell_type": "code",
      "source": [
        "cv_scores_test = cross_val_score(model, X_test_encoded, y_test, cv=5, scoring = \"r2\")\n",
        "print(cv_scores_test)"
      ],
      "metadata": {
        "colab": {
          "base_uri": "https://localhost:8080/"
        },
        "id": "l2icsSdsCIjY",
        "outputId": "da320bf8-7071-44ae-b3b9-a52f77a3a113"
      },
      "execution_count": 14,
      "outputs": [
        {
          "output_type": "stream",
          "name": "stdout",
          "text": [
            "[1. 1. 1. 1. 1.]\n"
          ]
        }
      ]
    }
  ]
}